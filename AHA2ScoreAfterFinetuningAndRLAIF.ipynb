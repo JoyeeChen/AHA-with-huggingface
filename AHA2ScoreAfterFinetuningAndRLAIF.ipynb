{
  "nbformat": 4,
  "nbformat_minor": 0,
  "metadata": {
    "colab": {
      "provenance": [],
      "authorship_tag": "ABX9TyMaaAYG4pd3B0z0w91dvv4/",
      "include_colab_link": true
    },
    "kernelspec": {
      "name": "python3",
      "display_name": "Python 3"
    },
    "language_info": {
      "name": "python"
    }
  },
  "cells": [
    {
      "cell_type": "markdown",
      "metadata": {
        "id": "view-in-github",
        "colab_type": "text"
      },
      "source": [
        "<a href=\"https://colab.research.google.com/github/JoyeeChen/AHA-with-huggingface/blob/main/AHA2ScoreAfterFinetuningAndRLAIF.ipynb\" target=\"_parent\"><img src=\"https://colab.research.google.com/assets/colab-badge.svg\" alt=\"Open In Colab\"/></a>"
      ]
    },
    {
      "cell_type": "markdown",
      "source": [
        "This is for https://www.compassionml.com/results-and-news#h.y8rxhqvrp2qp"
      ],
      "metadata": {
        "id": "KwTG_WTGX2I6"
      }
    },
    {
      "cell_type": "code",
      "execution_count": null,
      "metadata": {
        "id": "FCxXYxl3XtXC"
      },
      "outputs": [],
      "source": []
    }
  ]
}